{
  "nbformat": 4,
  "nbformat_minor": 0,
  "metadata": {
    "colab": {
      "name": "IntelligentCropPredictionSystem.ipynb",
      "provenance": [],
      "collapsed_sections": [],
      "include_colab_link": true
    },
    "kernelspec": {
      "name": "python3",
      "display_name": "Python 3"
    },
    "language_info": {
      "name": "python"
    }
  },
  "cells": [
    {
      "cell_type": "markdown",
      "metadata": {
        "id": "view-in-github",
        "colab_type": "text"
      },
      "source": [
        "<a href=\"https://colab.research.google.com/github/dharun-narayanan/Intelligent_CropPrediction_System/blob/main/IntelligentCropPredictionSystem.ipynb\" target=\"_parent\"><img src=\"https://colab.research.google.com/assets/colab-badge.svg\" alt=\"Open In Colab\"/></a>"
      ]
    },
    {
      "cell_type": "markdown",
      "metadata": {
        "id": "1x8FBVXXpSSX"
      },
      "source": [
        ""
      ]
    },
    {
      "cell_type": "code",
      "metadata": {
        "id": "G_ti26fppP-G"
      },
      "source": [
        "import pandas as pd\n",
        "import numpy as np\n",
        "import matplotlib.pyplot as plt\n",
        "import seaborn as sns"
      ],
      "execution_count": 6,
      "outputs": []
    },
    {
      "cell_type": "code",
      "metadata": {
        "colab": {
          "base_uri": "https://localhost:8080/"
        },
        "id": "JtT-pM4XpSCA",
        "outputId": "eb38e678-11ed-4f05-829c-d64e82efdc3f"
      },
      "source": [
        "# Get Dataset from drive\n",
        "#Connecting to the Google Drive\n",
        "\n",
        "from google.colab import drive\n",
        "drive.mount('/content/drive')"
      ],
      "execution_count": 7,
      "outputs": [
        {
          "output_type": "stream",
          "name": "stdout",
          "text": [
            "Drive already mounted at /content/drive; to attempt to forcibly remount, call drive.mount(\"/content/drive\", force_remount=True).\n"
          ]
        }
      ]
    },
    {
      "cell_type": "code",
      "metadata": {
        "id": "ukRd-efMqXhk"
      },
      "source": [
        "# Give Dataset path in Google drive\n",
        "# Loading the dataset from the drive\n",
        "\n",
        "cost = pd.read_csv('drive/My Drive/ML_Project/datafile.csv')\n",
        "rainfall = pd.read_csv('drive/My Drive/ML_Project/district_rainfall.csv')\n",
        "nutrients = pd.read_csv('drive/My Drive/ML_Project/crop_recommendation.csv')"
      ],
      "execution_count": 43,
      "outputs": []
    },
    {
      "cell_type": "code",
      "metadata": {
        "id": "l5Pjr1voqXm6",
        "colab": {
          "base_uri": "https://localhost:8080/"
        },
        "outputId": "cc1cc4fc-c727-42f9-ece7-162f60de7cfc"
      },
      "source": [
        "print('Cost Dataset Shape : ',cost.shape)\n",
        "print('Rainfall Dataset Shape : ',rainfall.shape)\n",
        "print('Nutrients Dataset Shape : ',nutrients.shape)"
      ],
      "execution_count": 47,
      "outputs": [
        {
          "output_type": "stream",
          "name": "stdout",
          "text": [
            "Cost Dataset Shape :  (49, 6)\n",
            "Rainfall Dataset Shape :  (641, 19)\n",
            "Nutrients Dataset Shape :  (2200, 8)\n"
          ]
        }
      ]
    },
    {
      "cell_type": "code",
      "metadata": {
        "colab": {
          "base_uri": "https://localhost:8080/"
        },
        "id": "Hg2G-dgNtzxA",
        "outputId": "c451027a-25e3-48d8-883b-09020e26d21b"
      },
      "source": [
        "print('Cost Dataset Columns : \\n',cost.columns)\n",
        "print('\\nRainfall Dataset Columns : \\n',rainfall.columns)\n",
        "print('\\nNutrients Dataset Columns : \\n',nutrients.columns)"
      ],
      "execution_count": 51,
      "outputs": [
        {
          "output_type": "stream",
          "name": "stdout",
          "text": [
            "Cost Dataset Columns : \n",
            " Index(['Crop', 'State', 'Cost of Cultivation (`/Hectare) A2+FL',\n",
            "       'Cost of Cultivation (`/Hectare) C2',\n",
            "       'Cost of Production (`/Quintal) C2', 'Yield (Quintal/ Hectare) '],\n",
            "      dtype='object')\n",
            "\n",
            "Rainfall Dataset Columns : \n",
            " Index(['STATE_UT_NAME', 'DISTRICT', 'JAN', 'FEB', 'MAR', 'APR', 'MAY', 'JUN',\n",
            "       'JUL', 'AUG', 'SEP', 'OCT', 'NOV', 'DEC', 'ANNUAL', 'Jan-Feb',\n",
            "       'Mar-May', 'Jun-Sep', 'Oct-Dec'],\n",
            "      dtype='object')\n",
            "\n",
            "Nutrients Dataset Columns : \n",
            " Index(['N', 'P', 'K', 'temperature', 'humidity', 'ph', 'rainfall', 'label'], dtype='object')\n"
          ]
        }
      ]
    },
    {
      "cell_type": "code",
      "metadata": {
        "colab": {
          "base_uri": "https://localhost:8080/",
          "height": 221
        },
        "id": "m_FwL3Zp108V",
        "outputId": "88c72aa8-7d93-43ac-847c-c06e25a01e95"
      },
      "source": [
        "print('Cost Dataset : ')\n",
        "cost.head()"
      ],
      "execution_count": 62,
      "outputs": [
        {
          "output_type": "stream",
          "name": "stdout",
          "text": [
            "Cost Dataset : \n"
          ]
        },
        {
          "output_type": "execute_result",
          "data": {
            "text/html": [
              "<div>\n",
              "<style scoped>\n",
              "    .dataframe tbody tr th:only-of-type {\n",
              "        vertical-align: middle;\n",
              "    }\n",
              "\n",
              "    .dataframe tbody tr th {\n",
              "        vertical-align: top;\n",
              "    }\n",
              "\n",
              "    .dataframe thead th {\n",
              "        text-align: right;\n",
              "    }\n",
              "</style>\n",
              "<table border=\"1\" class=\"dataframe\">\n",
              "  <thead>\n",
              "    <tr style=\"text-align: right;\">\n",
              "      <th></th>\n",
              "      <th>Crop</th>\n",
              "      <th>State</th>\n",
              "      <th>Cost of Cultivation (`/Hectare) A2+FL</th>\n",
              "      <th>Cost of Cultivation (`/Hectare) C2</th>\n",
              "      <th>Cost of Production (`/Quintal) C2</th>\n",
              "      <th>Yield (Quintal/ Hectare)</th>\n",
              "    </tr>\n",
              "  </thead>\n",
              "  <tbody>\n",
              "    <tr>\n",
              "      <th>0</th>\n",
              "      <td>ARHAR</td>\n",
              "      <td>Uttar Pradesh</td>\n",
              "      <td>9794.05</td>\n",
              "      <td>23076.74</td>\n",
              "      <td>1941.55</td>\n",
              "      <td>9.83</td>\n",
              "    </tr>\n",
              "    <tr>\n",
              "      <th>1</th>\n",
              "      <td>ARHAR</td>\n",
              "      <td>Karnataka</td>\n",
              "      <td>10593.15</td>\n",
              "      <td>16528.68</td>\n",
              "      <td>2172.46</td>\n",
              "      <td>7.47</td>\n",
              "    </tr>\n",
              "    <tr>\n",
              "      <th>2</th>\n",
              "      <td>ARHAR</td>\n",
              "      <td>Gujarat</td>\n",
              "      <td>13468.82</td>\n",
              "      <td>19551.90</td>\n",
              "      <td>1898.30</td>\n",
              "      <td>9.59</td>\n",
              "    </tr>\n",
              "    <tr>\n",
              "      <th>3</th>\n",
              "      <td>ARHAR</td>\n",
              "      <td>Andhra Pradesh</td>\n",
              "      <td>17051.66</td>\n",
              "      <td>24171.65</td>\n",
              "      <td>3670.54</td>\n",
              "      <td>6.42</td>\n",
              "    </tr>\n",
              "    <tr>\n",
              "      <th>4</th>\n",
              "      <td>ARHAR</td>\n",
              "      <td>Maharashtra</td>\n",
              "      <td>17130.55</td>\n",
              "      <td>25270.26</td>\n",
              "      <td>2775.80</td>\n",
              "      <td>8.72</td>\n",
              "    </tr>\n",
              "  </tbody>\n",
              "</table>\n",
              "</div>"
            ],
            "text/plain": [
              "    Crop  ... Yield (Quintal/ Hectare) \n",
              "0  ARHAR  ...                      9.83\n",
              "1  ARHAR  ...                      7.47\n",
              "2  ARHAR  ...                      9.59\n",
              "3  ARHAR  ...                      6.42\n",
              "4  ARHAR  ...                      8.72\n",
              "\n",
              "[5 rows x 6 columns]"
            ]
          },
          "metadata": {},
          "execution_count": 62
        }
      ]
    },
    {
      "cell_type": "code",
      "metadata": {
        "colab": {
          "base_uri": "https://localhost:8080/",
          "height": 221
        },
        "id": "eRX_lq9T2SJD",
        "outputId": "083c1ebe-26e6-4e54-c311-97857651d54a"
      },
      "source": [
        "print('Rainfall Dataset : ')\n",
        "rainfall.head()"
      ],
      "execution_count": 64,
      "outputs": [
        {
          "output_type": "stream",
          "name": "stdout",
          "text": [
            "Rainfall Dataset : \n"
          ]
        },
        {
          "output_type": "execute_result",
          "data": {
            "text/html": [
              "<div>\n",
              "<style scoped>\n",
              "    .dataframe tbody tr th:only-of-type {\n",
              "        vertical-align: middle;\n",
              "    }\n",
              "\n",
              "    .dataframe tbody tr th {\n",
              "        vertical-align: top;\n",
              "    }\n",
              "\n",
              "    .dataframe thead th {\n",
              "        text-align: right;\n",
              "    }\n",
              "</style>\n",
              "<table border=\"1\" class=\"dataframe\">\n",
              "  <thead>\n",
              "    <tr style=\"text-align: right;\">\n",
              "      <th></th>\n",
              "      <th>STATE_UT_NAME</th>\n",
              "      <th>DISTRICT</th>\n",
              "      <th>JAN</th>\n",
              "      <th>FEB</th>\n",
              "      <th>MAR</th>\n",
              "      <th>APR</th>\n",
              "      <th>MAY</th>\n",
              "      <th>JUN</th>\n",
              "      <th>JUL</th>\n",
              "      <th>AUG</th>\n",
              "      <th>SEP</th>\n",
              "      <th>OCT</th>\n",
              "      <th>NOV</th>\n",
              "      <th>DEC</th>\n",
              "      <th>ANNUAL</th>\n",
              "      <th>Jan-Feb</th>\n",
              "      <th>Mar-May</th>\n",
              "      <th>Jun-Sep</th>\n",
              "      <th>Oct-Dec</th>\n",
              "    </tr>\n",
              "  </thead>\n",
              "  <tbody>\n",
              "    <tr>\n",
              "      <th>0</th>\n",
              "      <td>ANDAMAN And NICOBAR ISLANDS</td>\n",
              "      <td>NICOBAR</td>\n",
              "      <td>107.3</td>\n",
              "      <td>57.9</td>\n",
              "      <td>65.2</td>\n",
              "      <td>117.0</td>\n",
              "      <td>358.5</td>\n",
              "      <td>295.5</td>\n",
              "      <td>285.0</td>\n",
              "      <td>271.9</td>\n",
              "      <td>354.8</td>\n",
              "      <td>326.0</td>\n",
              "      <td>315.2</td>\n",
              "      <td>250.9</td>\n",
              "      <td>2805.2</td>\n",
              "      <td>165.2</td>\n",
              "      <td>540.7</td>\n",
              "      <td>1207.2</td>\n",
              "      <td>892.1</td>\n",
              "    </tr>\n",
              "    <tr>\n",
              "      <th>1</th>\n",
              "      <td>ANDAMAN And NICOBAR ISLANDS</td>\n",
              "      <td>SOUTH ANDAMAN</td>\n",
              "      <td>43.7</td>\n",
              "      <td>26.0</td>\n",
              "      <td>18.6</td>\n",
              "      <td>90.5</td>\n",
              "      <td>374.4</td>\n",
              "      <td>457.2</td>\n",
              "      <td>421.3</td>\n",
              "      <td>423.1</td>\n",
              "      <td>455.6</td>\n",
              "      <td>301.2</td>\n",
              "      <td>275.8</td>\n",
              "      <td>128.3</td>\n",
              "      <td>3015.7</td>\n",
              "      <td>69.7</td>\n",
              "      <td>483.5</td>\n",
              "      <td>1757.2</td>\n",
              "      <td>705.3</td>\n",
              "    </tr>\n",
              "    <tr>\n",
              "      <th>2</th>\n",
              "      <td>ANDAMAN And NICOBAR ISLANDS</td>\n",
              "      <td>N &amp; M ANDAMAN</td>\n",
              "      <td>32.7</td>\n",
              "      <td>15.9</td>\n",
              "      <td>8.6</td>\n",
              "      <td>53.4</td>\n",
              "      <td>343.6</td>\n",
              "      <td>503.3</td>\n",
              "      <td>465.4</td>\n",
              "      <td>460.9</td>\n",
              "      <td>454.8</td>\n",
              "      <td>276.1</td>\n",
              "      <td>198.6</td>\n",
              "      <td>100.0</td>\n",
              "      <td>2913.3</td>\n",
              "      <td>48.6</td>\n",
              "      <td>405.6</td>\n",
              "      <td>1884.4</td>\n",
              "      <td>574.7</td>\n",
              "    </tr>\n",
              "    <tr>\n",
              "      <th>3</th>\n",
              "      <td>ARUNACHAL PRADESH</td>\n",
              "      <td>LOHIT</td>\n",
              "      <td>42.2</td>\n",
              "      <td>80.8</td>\n",
              "      <td>176.4</td>\n",
              "      <td>358.5</td>\n",
              "      <td>306.4</td>\n",
              "      <td>447.0</td>\n",
              "      <td>660.1</td>\n",
              "      <td>427.8</td>\n",
              "      <td>313.6</td>\n",
              "      <td>167.1</td>\n",
              "      <td>34.1</td>\n",
              "      <td>29.8</td>\n",
              "      <td>3043.8</td>\n",
              "      <td>123.0</td>\n",
              "      <td>841.3</td>\n",
              "      <td>1848.5</td>\n",
              "      <td>231.0</td>\n",
              "    </tr>\n",
              "    <tr>\n",
              "      <th>4</th>\n",
              "      <td>ARUNACHAL PRADESH</td>\n",
              "      <td>EAST SIANG</td>\n",
              "      <td>33.3</td>\n",
              "      <td>79.5</td>\n",
              "      <td>105.9</td>\n",
              "      <td>216.5</td>\n",
              "      <td>323.0</td>\n",
              "      <td>738.3</td>\n",
              "      <td>990.9</td>\n",
              "      <td>711.2</td>\n",
              "      <td>568.0</td>\n",
              "      <td>206.9</td>\n",
              "      <td>29.5</td>\n",
              "      <td>31.7</td>\n",
              "      <td>4034.7</td>\n",
              "      <td>112.8</td>\n",
              "      <td>645.4</td>\n",
              "      <td>3008.4</td>\n",
              "      <td>268.1</td>\n",
              "    </tr>\n",
              "  </tbody>\n",
              "</table>\n",
              "</div>"
            ],
            "text/plain": [
              "                 STATE_UT_NAME       DISTRICT    JAN  ...  Mar-May  Jun-Sep  Oct-Dec\n",
              "0  ANDAMAN And NICOBAR ISLANDS        NICOBAR  107.3  ...    540.7   1207.2    892.1\n",
              "1  ANDAMAN And NICOBAR ISLANDS  SOUTH ANDAMAN   43.7  ...    483.5   1757.2    705.3\n",
              "2  ANDAMAN And NICOBAR ISLANDS  N & M ANDAMAN   32.7  ...    405.6   1884.4    574.7\n",
              "3            ARUNACHAL PRADESH          LOHIT   42.2  ...    841.3   1848.5    231.0\n",
              "4            ARUNACHAL PRADESH     EAST SIANG   33.3  ...    645.4   3008.4    268.1\n",
              "\n",
              "[5 rows x 19 columns]"
            ]
          },
          "metadata": {},
          "execution_count": 64
        }
      ]
    },
    {
      "cell_type": "code",
      "metadata": {
        "colab": {
          "base_uri": "https://localhost:8080/",
          "height": 221
        },
        "id": "9ToSBa5y2SNs",
        "outputId": "069c7758-6f73-4de8-9997-56b23a6024a3"
      },
      "source": [
        "print('Nutrients Dataset : ')\n",
        "nutrients.head()"
      ],
      "execution_count": 63,
      "outputs": [
        {
          "output_type": "stream",
          "name": "stdout",
          "text": [
            "Nutrients Dataset : \n"
          ]
        },
        {
          "output_type": "execute_result",
          "data": {
            "text/html": [
              "<div>\n",
              "<style scoped>\n",
              "    .dataframe tbody tr th:only-of-type {\n",
              "        vertical-align: middle;\n",
              "    }\n",
              "\n",
              "    .dataframe tbody tr th {\n",
              "        vertical-align: top;\n",
              "    }\n",
              "\n",
              "    .dataframe thead th {\n",
              "        text-align: right;\n",
              "    }\n",
              "</style>\n",
              "<table border=\"1\" class=\"dataframe\">\n",
              "  <thead>\n",
              "    <tr style=\"text-align: right;\">\n",
              "      <th></th>\n",
              "      <th>N</th>\n",
              "      <th>P</th>\n",
              "      <th>K</th>\n",
              "      <th>temperature</th>\n",
              "      <th>humidity</th>\n",
              "      <th>ph</th>\n",
              "      <th>rainfall</th>\n",
              "      <th>label</th>\n",
              "    </tr>\n",
              "  </thead>\n",
              "  <tbody>\n",
              "    <tr>\n",
              "      <th>0</th>\n",
              "      <td>90</td>\n",
              "      <td>42</td>\n",
              "      <td>43</td>\n",
              "      <td>20.879744</td>\n",
              "      <td>82.002744</td>\n",
              "      <td>6.502985</td>\n",
              "      <td>202.935536</td>\n",
              "      <td>rice</td>\n",
              "    </tr>\n",
              "    <tr>\n",
              "      <th>1</th>\n",
              "      <td>85</td>\n",
              "      <td>58</td>\n",
              "      <td>41</td>\n",
              "      <td>21.770462</td>\n",
              "      <td>80.319644</td>\n",
              "      <td>7.038096</td>\n",
              "      <td>226.655537</td>\n",
              "      <td>rice</td>\n",
              "    </tr>\n",
              "    <tr>\n",
              "      <th>2</th>\n",
              "      <td>60</td>\n",
              "      <td>55</td>\n",
              "      <td>44</td>\n",
              "      <td>23.004459</td>\n",
              "      <td>82.320763</td>\n",
              "      <td>7.840207</td>\n",
              "      <td>263.964248</td>\n",
              "      <td>rice</td>\n",
              "    </tr>\n",
              "    <tr>\n",
              "      <th>3</th>\n",
              "      <td>74</td>\n",
              "      <td>35</td>\n",
              "      <td>40</td>\n",
              "      <td>26.491096</td>\n",
              "      <td>80.158363</td>\n",
              "      <td>6.980401</td>\n",
              "      <td>242.864034</td>\n",
              "      <td>rice</td>\n",
              "    </tr>\n",
              "    <tr>\n",
              "      <th>4</th>\n",
              "      <td>78</td>\n",
              "      <td>42</td>\n",
              "      <td>42</td>\n",
              "      <td>20.130175</td>\n",
              "      <td>81.604873</td>\n",
              "      <td>7.628473</td>\n",
              "      <td>262.717340</td>\n",
              "      <td>rice</td>\n",
              "    </tr>\n",
              "  </tbody>\n",
              "</table>\n",
              "</div>"
            ],
            "text/plain": [
              "    N   P   K  temperature   humidity        ph    rainfall label\n",
              "0  90  42  43    20.879744  82.002744  6.502985  202.935536  rice\n",
              "1  85  58  41    21.770462  80.319644  7.038096  226.655537  rice\n",
              "2  60  55  44    23.004459  82.320763  7.840207  263.964248  rice\n",
              "3  74  35  40    26.491096  80.158363  6.980401  242.864034  rice\n",
              "4  78  42  42    20.130175  81.604873  7.628473  262.717340  rice"
            ]
          },
          "metadata": {},
          "execution_count": 63
        }
      ]
    },
    {
      "cell_type": "code",
      "metadata": {
        "colab": {
          "base_uri": "https://localhost:8080/"
        },
        "id": "NWn78d61scxi",
        "outputId": "c8502aa4-54c8-4b16-9543-6958ba9c2211"
      },
      "source": [
        "print(\"Number of null elements in Cost Dataset : \",cost.isnull().sum().sum())\n",
        "print(\"Number of null elements in Rainfall Dataset : \",rainfall.isnull().sum().sum())\n",
        "print(\"Number of null elements in Nutrients Dataset : \",nutrients.isnull().sum().sum())"
      ],
      "execution_count": 54,
      "outputs": [
        {
          "output_type": "stream",
          "name": "stdout",
          "text": [
            "Number of null elements in Cost Dataset :  0\n",
            "Number of null elements in Rainfall Dataset :  0\n",
            "Number of null elements in Nutrients Dataset :  0\n"
          ]
        }
      ]
    },
    {
      "cell_type": "code",
      "metadata": {
        "id": "B1G4KPOXu3Y4"
      },
      "source": [
        "rainfall.rename(columns={'STATE_UT_NAME':'State','DISTRICT':'District'},inplace=True)"
      ],
      "execution_count": 65,
      "outputs": []
    },
    {
      "cell_type": "code",
      "metadata": {
        "colab": {
          "base_uri": "https://localhost:8080/"
        },
        "id": "XhlmO5AcvEf3",
        "outputId": "fbf89667-56a2-4fb4-a7e1-65cffd475080"
      },
      "source": [
        "rainfall.columns"
      ],
      "execution_count": 66,
      "outputs": [
        {
          "output_type": "execute_result",
          "data": {
            "text/plain": [
              "Index(['State', 'District', 'JAN', 'FEB', 'MAR', 'APR', 'MAY', 'JUN', 'JUL',\n",
              "       'AUG', 'SEP', 'OCT', 'NOV', 'DEC', 'ANNUAL', 'Jan-Feb', 'Mar-May',\n",
              "       'Jun-Sep', 'Oct-Dec'],\n",
              "      dtype='object')"
            ]
          },
          "metadata": {},
          "execution_count": 66
        }
      ]
    },
    {
      "cell_type": "code",
      "metadata": {
        "colab": {
          "base_uri": "https://localhost:8080/"
        },
        "id": "GzIUTImOwmo_",
        "outputId": "6de7e086-8bf5-43cf-8dcf-d84a01281676"
      },
      "source": [
        "for x in cost['State']:\n",
        "  cost.replace(x,x.upper(),inplace=True)\n",
        "cost['State']"
      ],
      "execution_count": 67,
      "outputs": [
        {
          "output_type": "execute_result",
          "data": {
            "text/plain": [
              "0      UTTAR PRADESH\n",
              "1          KARNATAKA\n",
              "2            GUJARAT\n",
              "3     ANDHRA PRADESH\n",
              "4        MAHARASHTRA\n",
              "5        MAHARASHTRA\n",
              "6             PUNJAB\n",
              "7     ANDHRA PRADESH\n",
              "8            GUJARAT\n",
              "9            HARYANA\n",
              "10         RAJASTHAN\n",
              "11    MADHYA PRADESH\n",
              "12     UTTAR PRADESH\n",
              "13       MAHARASHTRA\n",
              "14    ANDHRA PRADESH\n",
              "15         KARNATAKA\n",
              "16    ANDHRA PRADESH\n",
              "17        TAMIL NADU\n",
              "18           GUJARAT\n",
              "19       MAHARASHTRA\n",
              "20             BIHAR\n",
              "21         KARNATAKA\n",
              "22         RAJASTHAN\n",
              "23     UTTAR PRADESH\n",
              "24    ANDHRA PRADESH\n",
              "25            ORISSA\n",
              "26         RAJASTHAN\n",
              "27         KARNATAKA\n",
              "28    ANDHRA PRADESH\n",
              "29       MAHARASHTRA\n",
              "30     UTTAR PRADESH\n",
              "31            ORISSA\n",
              "32       WEST BENGAL\n",
              "33            PUNJAB\n",
              "34    ANDHRA PRADESH\n",
              "35    MADHYA PRADESH\n",
              "36         RAJASTHAN\n",
              "37     UTTAR PRADESH\n",
              "38           GUJARAT\n",
              "39           HARYANA\n",
              "40     UTTAR PRADESH\n",
              "41         KARNATAKA\n",
              "42    ANDHRA PRADESH\n",
              "43       MAHARASHTRA\n",
              "44        TAMIL NADU\n",
              "45    MADHYA PRADESH\n",
              "46            PUNJAB\n",
              "47     UTTAR PRADESH\n",
              "48         RAJASTHAN\n",
              "Name: State, dtype: object"
            ]
          },
          "metadata": {},
          "execution_count": 67
        }
      ]
    },
    {
      "cell_type": "code",
      "metadata": {
        "colab": {
          "base_uri": "https://localhost:8080/"
        },
        "id": "IZ0q9UbVwmtN",
        "outputId": "76e4489a-a006-46bd-8fef-31d19568234f"
      },
      "source": [
        "cost['Crop'].value_counts()"
      ],
      "execution_count": 69,
      "outputs": [
        {
          "output_type": "execute_result",
          "data": {
            "text/plain": [
              "SUGARCANE               5\n",
              "MAIZE                   5\n",
              "MOONG                   5\n",
              "COTTON                  5\n",
              "RAPESEED AND MUSTARD    5\n",
              "GROUNDNUT               5\n",
              "GRAM                    5\n",
              "PADDY                   5\n",
              "ARHAR                   5\n",
              "WHEAT                   4\n",
              "Name: Crop, dtype: int64"
            ]
          },
          "metadata": {},
          "execution_count": 69
        }
      ]
    },
    {
      "cell_type": "code",
      "metadata": {
        "colab": {
          "base_uri": "https://localhost:8080/"
        },
        "id": "2o9EUnjIySqN",
        "outputId": "0f7e1ae5-ffae-46a6-8905-c488896c2f6b"
      },
      "source": [
        "cost.groupby('Crop')['Cost of Cultivation (`/Hectare) A2+FL'].mean()"
      ],
      "execution_count": 74,
      "outputs": [
        {
          "output_type": "execute_result",
          "data": {
            "text/plain": [
              "Crop\n",
              "ARHAR                   13607.646\n",
              "COTTON                  28286.874\n",
              "GRAM                    11719.510\n",
              "GROUNDNUT               21282.782\n",
              "MAIZE                   16610.150\n",
              "MOONG                    7118.670\n",
              "PADDY                   22810.140\n",
              "RAPESEED AND MUSTARD    12260.490\n",
              "SUGARCANE               52164.716\n",
              "WHEAT                   17127.110\n",
              "Name: Cost of Cultivation (`/Hectare) A2+FL, dtype: float64"
            ]
          },
          "metadata": {},
          "execution_count": 74
        }
      ]
    },
    {
      "cell_type": "code",
      "metadata": {
        "colab": {
          "base_uri": "https://localhost:8080/"
        },
        "id": "DVPQ4c_yyStE",
        "outputId": "bba908d2-d9bc-46d7-e0a8-f71bd9abb7d2"
      },
      "source": [
        "rainfall.groupby('State')['ANNUAL'].mean()"
      ],
      "execution_count": 76,
      "outputs": [
        {
          "output_type": "execute_result",
          "data": {
            "text/plain": [
              "State\n",
              "ANDAMAN And NICOBAR ISLANDS    2911.400000\n",
              "ANDHRA PRADESH                  945.073913\n",
              "ARUNACHAL PRADESH              2927.375000\n",
              "ASSAM                          2454.359259\n",
              "BIHAR                          1200.555263\n",
              "CHANDIGARH                     1070.600000\n",
              "CHATISGARH                     1286.350000\n",
              "DADAR NAGAR HAVELI             2374.100000\n",
              "DAMAN AND DUI                  1535.700000\n",
              "DELHI                           747.100000\n",
              "GOA                            3278.500000\n",
              "GUJARAT                         924.342308\n",
              "HARYANA                         614.557143\n",
              "HIMACHAL                       1371.591667\n",
              "JAMMU AND KASHMIR              1016.618182\n",
              "JHARKHAND                      1303.437500\n",
              "KARNATAKA                      1194.616667\n",
              "KERALA                         2937.392857\n",
              "LAKSHADWEEP                    1600.000000\n",
              "MADHYA PRADESH                 1032.310000\n",
              "MAHARASHTRA                    1278.588571\n",
              "MANIPUR                        2496.633333\n",
              "MEGHALAYA                      3682.842857\n",
              "MIZORAM                        2616.322222\n",
              "NAGALAND                       1940.700000\n",
              "ORISSA                         1466.120000\n",
              "PONDICHERRY                    1378.475000\n",
              "PUNJAB                          648.545000\n",
              "RAJASTHAN                       581.596970\n",
              "SIKKIM                         2838.350000\n",
              "TAMIL NADU                      960.006250\n",
              "TRIPURA                        2479.125000\n",
              "UTTAR PRADESH                   955.445070\n",
              "UTTARANCHAL                    1558.038462\n",
              "WEST BENGAL                    1810.426316\n",
              "Name: ANNUAL, dtype: float64"
            ]
          },
          "metadata": {},
          "execution_count": 76
        }
      ]
    },
    {
      "cell_type": "code",
      "metadata": {
        "colab": {
          "base_uri": "https://localhost:8080/"
        },
        "id": "0J2wMjTbySv3",
        "outputId": "dfa4f8f5-89a3-422d-f2b8-82aa6753f72a"
      },
      "source": [
        "r_mean = nutrients.groupby('label')['rainfall'].mean()\n",
        "r_mean"
      ],
      "execution_count": 83,
      "outputs": [
        {
          "output_type": "execute_result",
          "data": {
            "text/plain": [
              "label\n",
              "apple          112.654779\n",
              "banana         104.626980\n",
              "blackgram       67.884151\n",
              "chickpea        80.058977\n",
              "coconut        175.686646\n",
              "coffee         158.066295\n",
              "cotton          80.398043\n",
              "grapes          69.611829\n",
              "jute           174.792798\n",
              "kidneybeans    105.919778\n",
              "lentil          45.680454\n",
              "maize           84.766988\n",
              "mango           94.704515\n",
              "mothbeans       51.198487\n",
              "mungbean        48.403601\n",
              "muskmelon       24.689952\n",
              "orange         110.474969\n",
              "papaya         142.627839\n",
              "pigeonpeas     149.457564\n",
              "pomegranate    107.528442\n",
              "rice           236.181114\n",
              "watermelon      50.786219\n",
              "Name: rainfall, dtype: float64"
            ]
          },
          "metadata": {},
          "execution_count": 83
        }
      ]
    },
    {
      "cell_type": "code",
      "metadata": {
        "colab": {
          "base_uri": "https://localhost:8080/"
        },
        "id": "T8m2EwGvA7Ck",
        "outputId": "49b07398-8639-417a-c7a3-13703bcc395b"
      },
      "source": [
        "h_mean = nutrients.groupby('label')['humidity'].mean()\n",
        "h_mean"
      ],
      "execution_count": 126,
      "outputs": [
        {
          "output_type": "execute_result",
          "data": {
            "text/plain": [
              "label\n",
              "apple          92.333383\n",
              "banana         80.358123\n",
              "blackgram      65.118426\n",
              "chickpea       16.860439\n",
              "coconut        94.844272\n",
              "coffee         58.869846\n",
              "cotton         79.843474\n",
              "grapes         81.875228\n",
              "jute           79.639864\n",
              "kidneybeans    21.605357\n",
              "lentil         64.804785\n",
              "maize          65.092249\n",
              "mango          50.156573\n",
              "mothbeans      53.160418\n",
              "mungbean       85.499975\n",
              "muskmelon      92.342802\n",
              "orange         92.170209\n",
              "papaya         92.403388\n",
              "pigeonpeas     48.061633\n",
              "pomegranate    90.125504\n",
              "rice           82.272822\n",
              "watermelon     85.160375\n",
              "Name: humidity, dtype: float64"
            ]
          },
          "metadata": {},
          "execution_count": 126
        }
      ]
    },
    {
      "cell_type": "code",
      "metadata": {
        "colab": {
          "base_uri": "https://localhost:8080/"
        },
        "id": "DuGCIhQm9bAO",
        "outputId": "48ac6146-8533-4bd3-d151-32a84bb009b6"
      },
      "source": [
        "c_label=nutrients['label'].unique()\n",
        "c_label"
      ],
      "execution_count": 87,
      "outputs": [
        {
          "output_type": "execute_result",
          "data": {
            "text/plain": [
              "array(['rice', 'maize', 'chickpea', 'kidneybeans', 'pigeonpeas',\n",
              "       'mothbeans', 'mungbean', 'blackgram', 'lentil', 'pomegranate',\n",
              "       'banana', 'mango', 'grapes', 'watermelon', 'muskmelon', 'apple',\n",
              "       'orange', 'papaya', 'coconut', 'cotton', 'jute', 'coffee'],\n",
              "      dtype=object)"
            ]
          },
          "metadata": {},
          "execution_count": 87
        }
      ]
    },
    {
      "cell_type": "code",
      "metadata": {
        "colab": {
          "base_uri": "https://localhost:8080/",
          "height": 557
        },
        "id": "BnKo2XkqySyU",
        "outputId": "8a02a029-b3f4-4193-f838-e5e0ed284410"
      },
      "source": [
        "ax = plt.subplots(1,1, figsize=(15, 8));\n",
        "plt.bar(c_label,r_mean,label=\"Rainfall\",color='#42f2f5')\n",
        "plt.xlabel('Crop')\n",
        "plt.ylabel('Rainfall Avg')\n",
        "plt.title('Crop vs Rainfall')\n",
        "plt.xticks(rotation=45)\n",
        "plt.legend()\n",
        "plt.show()"
      ],
      "execution_count": 139,
      "outputs": [
        {
          "output_type": "display_data",
          "data": {
            "image/png": "[encoded data removed]",
            "text/plain": [
              "<Figure size 1080x576 with 1 Axes>"
            ]
          },
          "metadata": {
            "needs_background": "light"
          }
        }
      ]
    },
    {
      "cell_type": "code",
      "metadata": {
        "colab": {
          "base_uri": "https://localhost:8080/",
          "height": 557
        },
        "id": "-yByHWLcyS0s",
        "outputId": "6ade170b-bbb0-4742-8ec7-1197545eff9d"
      },
      "source": [
        "ax = plt.subplots(1,1, figsize=(15, 8));\n",
        "plt.bar(c_label,h_mean,label=\"Humidity\",color='#f75e5e')\n",
        "plt.xlabel('Crop')\n",
        "plt.ylabel('Humidity Avg')\n",
        "plt.title('Crop vs Humidity')\n",
        "plt.xticks(rotation=45)\n",
        "plt.legend()\n",
        "plt.show()"
      ],
      "execution_count": 140,
      "outputs": [
        {
          "output_type": "display_data",
          "data": {
            "image/png": "[encoded data removed]",
            "text/plain": [
              "<Figure size 1080x576 with 1 Axes>"
            ]
          },
          "metadata": {
            "needs_background": "light"
          }
        }
      ]
    },
    {
      "cell_type": "code",
      "metadata": {
        "colab": {
          "base_uri": "https://localhost:8080/"
        },
        "id": "yno6Mo1sG3Nv",
        "outputId": "fccb3ae5-0fe5-449b-b0a8-b1b5e84f38b5"
      },
      "source": [
        "c_lab=cost['Crop'].unique()\n",
        "c_lab"
      ],
      "execution_count": 141,
      "outputs": [
        {
          "output_type": "execute_result",
          "data": {
            "text/plain": [
              "array(['ARHAR', 'COTTON', 'GRAM', 'GROUNDNUT', 'MAIZE', 'MOONG', 'PADDY',\n",
              "       'RAPESEED AND MUSTARD', 'SUGARCANE', 'WHEAT'], dtype=object)"
            ]
          },
          "metadata": {},
          "execution_count": 141
        }
      ]
    },
    {
      "cell_type": "code",
      "metadata": {
        "colab": {
          "base_uri": "https://localhost:8080/"
        },
        "id": "wOGUhydTHp_m",
        "outputId": "94cfb65b-267b-4a29-cc34-c3f74aec55b5"
      },
      "source": [
        "cultivation_cost = cost.groupby('Crop')['Cost of Cultivation (`/Hectare) A2+FL'].mean()\n",
        "cultivation_cost"
      ],
      "execution_count": 142,
      "outputs": [
        {
          "output_type": "execute_result",
          "data": {
            "text/plain": [
              "Crop\n",
              "ARHAR                   13607.646\n",
              "COTTON                  28286.874\n",
              "GRAM                    11719.510\n",
              "GROUNDNUT               21282.782\n",
              "MAIZE                   16610.150\n",
              "MOONG                    7118.670\n",
              "PADDY                   22810.140\n",
              "RAPESEED AND MUSTARD    12260.490\n",
              "SUGARCANE               52164.716\n",
              "WHEAT                   17127.110\n",
              "Name: Cost of Cultivation (`/Hectare) A2+FL, dtype: float64"
            ]
          },
          "metadata": {},
          "execution_count": 142
        }
      ]
    },
    {
      "cell_type": "code",
      "metadata": {
        "colab": {
          "base_uri": "https://localhost:8080/",
          "height": 601
        },
        "id": "D8lqkGZMBJEC",
        "outputId": "530317e1-c908-443c-b970-2d67510eb982"
      },
      "source": [
        "ax = plt.subplots(1,1, figsize=(15, 8));\n",
        "sns.barplot(x=c_lab,y=cultivation_cost)\n",
        "plt.xlabel('Crop')\n",
        "plt.ylabel('Culivation Cost')\n",
        "plt.title('Crop vs Cultivation Cost(A2+FL)')\n",
        "plt.xticks(rotation=45)\n",
        "plt.show()"
      ],
      "execution_count": 143,
      "outputs": [
        {
          "output_type": "display_data",
          "data": {
            "image/png": "[encoded data removed]",
            "text/plain": [
              "<Figure size 1080x576 with 1 Axes>"
            ]
          },
          "metadata": {
            "needs_background": "light"
          }
        }
      ]
    }
  ]
}